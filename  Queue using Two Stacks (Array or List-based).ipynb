{
 "cells": [
  {
   "cell_type": "markdown",
   "id": "a12065bb-a948-4060-912b-a099998ca9a8",
   "metadata": {},
   "source": [
    "Queue implementation based on array/list/linekd_list : "
   ]
  },
  {
   "cell_type": "markdown",
   "id": "92be5be1-6832-4700-b266-53352b9f531d",
   "metadata": {},
   "source": [
    "1.Queue using Two Stacks (List-based)"
   ]
  },
  {
   "cell_type": "markdown",
   "id": "936e6c2f-4323-440e-a651-93038013296a",
   "metadata": {},
   "source": [
    "Explanation: We use two lists (stacks) to implement a queue. One stack is used for enqueue operations, and the other for dequeue operations. When dequeuing, we transfer elements from the first stack to the second to maintain FIFO order.\n"
   ]
  },
  {
   "cell_type": "code",
   "execution_count": 9,
   "id": "dc54fd00-0570-41ee-8ca4-c48634491281",
   "metadata": {},
   "outputs": [],
   "source": [
    "class QueueUsingStacks:\n",
    "    def _init_(self):\n",
    "        self.stack1 = []\n",
    "        self.stack2 = []\n",
    "\n",
    "    def enqueue(self, x):\n",
    "        self.stack1.append(x)\n",
    "\n",
    "    def dequeue(self):\n",
    "        if not self.stack2:\n",
    "            while self.stack1:\n",
    "                self.stack2.append(self.stack1.pop())\n",
    "        return self.stack2.pop() if self.stack2 else -1\n",
    "\n",
    "    def peek(self):\n",
    "        if not self.stack2:\n",
    "            while self.stack1:\n",
    "                self.stack2.append(self.stack1.pop())\n",
    "        return self.stack2[-1] if self.stack2 else -1\n",
    "\n",
    "    def is_empty(self):\n",
    "        return not self.stack1 and not self.stack2\n"
   ]
  },
  {
   "cell_type": "markdown",
   "id": "86817fa8-2e10-4f0c-a4ec-d70c3ba97ad2",
   "metadata": {},
   "source": [
    "2. Reverse a Queue Using Recursion"
   ]
  },
  {
   "cell_type": "markdown",
   "id": "ae328425-d234-4630-85cb-e3115437e462",
   "metadata": {},
   "source": [
    "Explanation: We recursively remove elements from the queue until it is empty, then add them back in reversed order."
   ]
  },
  {
   "cell_type": "code",
   "execution_count": 13,
   "id": "41d7c133-d254-4063-961f-ead8b120a1f4",
   "metadata": {},
   "outputs": [],
   "source": [
    "def reverse_queue(queue):\n",
    "    if not queue:\n",
    "        return\n",
    "    temp = queue.pop(0)  \n",
    "    reverse_queue(queue)\n",
    "    queue.append(temp)  \n"
   ]
  },
  {
   "cell_type": "markdown",
   "id": "d05eb879-21d2-452e-821f-74756e2f7f0a",
   "metadata": {},
   "source": [
    "3. Queue that Supports max() Operation"
   ]
  },
  {
   "cell_type": "markdown",
   "id": "2f02f044-c113-4cc0-ac4a-b72dc8839004",
   "metadata": {},
   "source": [
    "Explanation: We track the maximum value in a separate list, ensuring constant time retrieval."
   ]
  },
  {
   "cell_type": "code",
   "execution_count": 16,
   "id": "f48b96ff-64bb-4e8a-ac8e-6c6ace5f669f",
   "metadata": {},
   "outputs": [],
   "source": [
    "class MaxQueue:\n",
    "    def _init_(self):\n",
    "        self.queue = []\n",
    "        self.max_values = []\n",
    "\n",
    "    def enqueue(self, x):\n",
    "        self.queue.append(x)\n",
    "        while self.max_values and self.max_values[-1] < x:\n",
    "            self.max_values.pop()\n",
    "        self.max_values.append(x)\n",
    "\n",
    "    def dequeue(self):\n",
    "        if self.queue:\n",
    "            if self.queue[0] == self.max_values[0]:\n",
    "                self.max_values.pop(0)\n",
    "            return self.queue.pop(0)\n",
    "        return -1\n",
    "\n",
    "    def max(self):\n",
    "        return self.max_values[0] if self.max_values else -1\n"
   ]
  },
  {
   "cell_type": "markdown",
   "id": "27e536c2-8692-4e28-b83c-bc2c937dc059",
   "metadata": {},
   "source": [
    "4. Merge Two Queues"
   ]
  },
  {
   "cell_type": "markdown",
   "id": "f25e7748-6c00-474e-a3d1-e03188214555",
   "metadata": {},
   "source": [
    "Explanation: We alternate elements from two queues while merging."
   ]
  },
  {
   "cell_type": "code",
   "execution_count": 21,
   "id": "a2e331ab-7ca7-405c-92ec-56051c93394e",
   "metadata": {},
   "outputs": [],
   "source": [
    "def merge_queues(q1, q2):\n",
    "    merged = []\n",
    "    while q1 or q2:\n",
    "        if q1:\n",
    "            merged.append(q1.pop(0))\n",
    "        if q2:\n",
    "            merged.append(q2.pop(0))\n",
    "    return merged\n"
   ]
  },
  {
   "cell_type": "markdown",
   "id": "edd8fb3c-e471-4335-95d0-396618313c20",
   "metadata": {},
   "source": [
    "5. Count Occurrences of a Specific Element"
   ]
  },
  {
   "cell_type": "markdown",
   "id": "e4f068a3-b1c4-4c5b-b890-db974191d9bf",
   "metadata": {},
   "source": [
    "Explanation: We iterate through the queue and count occurrences of a given element."
   ]
  },
  {
   "cell_type": "code",
   "execution_count": 25,
   "id": "3bdbaf2e-9bd8-4c82-bac1-e90913046f11",
   "metadata": {},
   "outputs": [],
   "source": [
    "def count_element(queue, x):\n",
    "    count = 0\n",
    "    for item in queue:\n",
    "        if item == x:\n",
    "            count += 1\n",
    "    return count\n"
   ]
  },
  {
   "cell_type": "markdown",
   "id": "c9600544-3589-4744-a7a8-05e2f2ea408f",
   "metadata": {},
   "source": [
    "6. Reverse Words in a Sentence Using a Queue"
   ]
  },
  {
   "cell_type": "markdown",
   "id": "a34eae80-f7a6-44dd-9656-e5034b779878",
   "metadata": {},
   "source": [
    "Explanation: We split the sentence into words and reverse their order using a list."
   ]
  },
  {
   "cell_type": "code",
   "execution_count": 29,
   "id": "b5f73563-f10e-4934-b2f0-20050989bc7d",
   "metadata": {},
   "outputs": [],
   "source": [
    "def reverse_words(sentence):\n",
    "    words = sentence.split()\n",
    "    reversed_sentence = []\n",
    "    while words:\n",
    "        reversed_sentence.append(words.pop())\n",
    "    return \" \".join(reversed_sentence)\n"
   ]
  },
  {
   "cell_type": "markdown",
   "id": "9a7b50e1-6a87-4558-8aea-e177e4691c60",
   "metadata": {},
   "source": [
    "7. Queue with contains(x) Operation"
   ]
  },
  {
   "cell_type": "markdown",
   "id": "3dfc32e5-7912-408a-9b7f-f4e21d066834",
   "metadata": {},
   "source": [
    "Explanation: We check if an element exists in the queue by iterating through it."
   ]
  },
  {
   "cell_type": "code",
   "execution_count": 33,
   "id": "25ede03b-bead-4426-823e-622696b4f054",
   "metadata": {},
   "outputs": [],
   "source": [
    "class QueueWithContains:\n",
    "    def _init_(self):\n",
    "        self.queue = []\n",
    "\n",
    "    def enqueue(self, x):\n",
    "        self.queue.append(x)\n",
    "\n",
    "    def dequeue(self):\n",
    "        return self.queue.pop(0) if self.queue else -1\n",
    "\n",
    "    def contains(self, x):\n",
    "        for item in self.queue:\n",
    "            if item == x:\n",
    "                return True\n",
    "        return False "
   ]
  },
  {
   "cell_type": "code",
   "execution_count": null,
   "id": "67d8269c-1722-47c8-addf-faf73af63d22",
   "metadata": {},
   "outputs": [],
   "source": []
  }
 ],
 "metadata": {
  "kernelspec": {
   "display_name": "Python [conda env:base] *",
   "language": "python",
   "name": "conda-base-py"
  },
  "language_info": {
   "codemirror_mode": {
    "name": "ipython",
    "version": 3
   },
   "file_extension": ".py",
   "mimetype": "text/x-python",
   "name": "python",
   "nbconvert_exporter": "python",
   "pygments_lexer": "ipython3",
   "version": "3.12.4"
  }
 },
 "nbformat": 4,
 "nbformat_minor": 5
}
