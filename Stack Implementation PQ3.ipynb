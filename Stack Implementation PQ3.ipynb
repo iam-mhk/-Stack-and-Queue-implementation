{
 "cells": [
  {
   "cell_type": "markdown",
   "id": "973930d3-f30e-4bdd-8d7c-fef0b19932c5",
   "metadata": {},
   "source": [
    "1. Postfix to Infix Conversion"
   ]
  },
  {
   "cell_type": "code",
   "execution_count": 3,
   "id": "0054d7a5-21d3-4331-b5a6-cc5d454c07ff",
   "metadata": {},
   "outputs": [
    {
     "name": "stdout",
     "output_type": "stream",
     "text": [
      "ab+c*\n",
      "((1 + 2) * 3)\n"
     ]
    }
   ],
   "source": [
    "def postfix_to_infix(postfix_expr):\n",
    "    stack = []\n",
    "    operators = set(['+', '-', '*', '/', '^'])\n",
    "    for char in postfix_expr.split():\n",
    "        if char not in operators:\n",
    "            stack.append(char)\n",
    "        else:\n",
    "            operand2 = stack.pop()\n",
    "            operand1 = stack.pop()\n",
    "            infix_expr = f\"({operand1} {char} {operand2})\"\n",
    "            stack.append(infix_expr)\n",
    "    return stack[0]\n",
    "\n",
    "postfix = \"ab+c*\"\n",
    "print(postfix_to_infix(postfix)) \n",
    "\n",
    "postfix = \"1 2 + 3 *\"\n",
    "print(postfix_to_infix(postfix)) \n"
   ]
  },
  {
   "cell_type": "markdown",
   "id": "a4bcbd63-53b2-4c01-8080-c77a5ad6a40a",
   "metadata": {},
   "source": [
    "2. Postfix to Prefix Conversion"
   ]
  },
  {
   "cell_type": "code",
   "execution_count": 6,
   "id": "b1e50bd4-399f-40fe-b3e2-6410b5350d36",
   "metadata": {},
   "outputs": [
    {
     "name": "stdout",
     "output_type": "stream",
     "text": [
      "ab+c*\n",
      "* + 1 2 3\n"
     ]
    }
   ],
   "source": [
    "def postfix_to_prefix(postfix_expr):\n",
    "    stack = []\n",
    "    operators = set(['+', '-', '*', '/', '^'])\n",
    "    for char in postfix_expr.split():\n",
    "        if char not in operators:\n",
    "            stack.append(char)\n",
    "        else:\n",
    "            operand2 = stack.pop()\n",
    "            operand1 = stack.pop()\n",
    "            prefix_expr = f\"{char} {operand1} {operand2}\"\n",
    "            stack.append(prefix_expr)\n",
    "    return stack[0]\n",
    "\n",
    "postfix = \"ab+c*\"\n",
    "print(postfix_to_prefix(postfix)) \n",
    "\n",
    "postfix = \"1 2 + 3 *\"\n",
    "print(postfix_to_prefix(postfix)) \n"
   ]
  },
  {
   "cell_type": "markdown",
   "id": "d7f58eea-1b22-4f00-9c40-c1fc27d8113f",
   "metadata": {},
   "source": [
    "3. Prefix to Postfix Conversion"
   ]
  },
  {
   "cell_type": "code",
   "execution_count": 9,
   "id": "2cd4070f-d21c-4b95-9d4f-39f09ba6b41c",
   "metadata": {},
   "outputs": [
    {
     "name": "stdout",
     "output_type": "stream",
     "text": [
      "a b + c *\n",
      "1 2 + 3 *\n"
     ]
    }
   ],
   "source": [
    "def prefix_to_postfix(prefix_expr):\n",
    "    stack = []\n",
    "    operators = set(['+', '-', '*', '/', '^'])\n",
    "    expr_list = prefix_expr.split()[::-1] #reverse the string and then split it\n",
    "    for char in expr_list:\n",
    "        if char not in operators:\n",
    "            stack.append(char)\n",
    "        else:\n",
    "            operand1 = stack.pop()\n",
    "            operand2 = stack.pop()\n",
    "            postfix_expr = f\"{operand1} {operand2} {char}\"\n",
    "            stack.append(postfix_expr)\n",
    "    return stack[0]\n",
    "\n",
    "prefix = \"* + a b c\"\n",
    "print(prefix_to_postfix(prefix)) \n",
    "\n",
    "prefix = \"* + 1 2 3\"\n",
    "print(prefix_to_postfix(prefix)) \n"
   ]
  },
  {
   "cell_type": "markdown",
   "id": "01d09cc0-4e6b-4523-bf84-a3e9f070d465",
   "metadata": {},
   "source": [
    "4. Multiple Stacks Using a Single List:"
   ]
  },
  {
   "cell_type": "code",
   "execution_count": 12,
   "id": "55eb32ac-0a4e-4389-af13-d544b9564ddb",
   "metadata": {},
   "outputs": [
    {
     "name": "stdout",
     "output_type": "stream",
     "text": [
      "2\n",
      "3\n"
     ]
    }
   ],
   "source": [
    "class MultiStack:\n",
    "    def __init__(self, num_stacks, total_size):\n",
    "        self.num_stacks = num_stacks\n",
    "        self.total_size = total_size\n",
    "        self.array = [None] * total_size\n",
    "        self.sizes = [0] * num_stacks\n",
    "\n",
    "    def push(self, stack_num, value):\n",
    "        if self.sizes[stack_num] >= self.total_size / self.num_stacks:\n",
    "            raise Exception(\"Stack Overflow\")\n",
    "        index = int(self.get_top_index(stack_num) + 1)\n",
    "        self.array[index] = value\n",
    "        self.sizes[stack_num] += 1\n",
    "\n",
    "    def pop(self, stack_num):\n",
    "        if self.sizes[stack_num] == 0:\n",
    "            raise Exception(\"Stack Underflow\")\n",
    "        index = int(self.get_top_index(stack_num))\n",
    "        value = self.array[index]\n",
    "        self.array[index] = None\n",
    "        self.sizes[stack_num] -= 1\n",
    "        return value\n",
    "\n",
    "    def peek(self, stack_num):\n",
    "        if self.sizes[stack_num] == 0:\n",
    "            raise Exception(\"Stack is Empty\")\n",
    "        index = int(self.get_top_index(stack_num))\n",
    "        return self.array[index]\n",
    "\n",
    "    def get_top_index(self, stack_num):\n",
    "        offset = int(self.total_size / self.num_stacks * stack_num)\n",
    "        return offset + self.sizes[stack_num] - 1\n",
    "\n",
    "multi_stack = MultiStack(3, 9)\n",
    "multi_stack.push(0, 1)\n",
    "multi_stack.push(0, 2)\n",
    "multi_stack.push(1, 3)\n",
    "multi_stack.push(2, 4)\n",
    "print(multi_stack.pop(0))\n",
    "print(multi_stack.peek(1)) \n"
   ]
  },
  {
   "cell_type": "code",
   "execution_count": null,
   "id": "ee683546-a00b-4bd9-8b71-e124d326e2cd",
   "metadata": {},
   "outputs": [],
   "source": []
  }
 ],
 "metadata": {
  "kernelspec": {
   "display_name": "Python [conda env:base] *",
   "language": "python",
   "name": "conda-base-py"
  },
  "language_info": {
   "codemirror_mode": {
    "name": "ipython",
    "version": 3
   },
   "file_extension": ".py",
   "mimetype": "text/x-python",
   "name": "python",
   "nbconvert_exporter": "python",
   "pygments_lexer": "ipython3",
   "version": "3.12.4"
  }
 },
 "nbformat": 4,
 "nbformat_minor": 5
}
