{
 "cells": [
  {
   "cell_type": "markdown",
   "id": "687bb867-41de-4f85-b54a-81a42abbae56",
   "metadata": {},
   "source": [
    "1. Parentheses Positioning Error"
   ]
  },
  {
   "cell_type": "code",
   "execution_count": 2,
   "id": "b3dc2ed5-5172-443e-ab4e-958b223b34e7",
   "metadata": {},
   "outputs": [
    {
     "name": "stdout",
     "output_type": "stream",
     "text": [
      "4\n",
      "0\n",
      "-1\n"
     ]
    }
   ],
   "source": [
    "def find_mismatched_parenthesis(s):\n",
    "    stack = []\n",
    "    for i, char in enumerate(s):\n",
    "        if char == '(':\n",
    "            stack.append(i)  # Push the index of the opening parenthesis\n",
    "        elif char == ')':\n",
    "            if stack:\n",
    "                stack.pop()  # Pop if there's a matching opening parenthesis\n",
    "            else:\n",
    "                return i  # Unmatched closing parenthesis\n",
    "    if stack:\n",
    "        return stack[0]  # Unmatched opening parenthesis\n",
    "    return -1  # All parentheses are balanced\n",
    "\n",
    "print(find_mismatched_parenthesis(\"(()))\"))  \n",
    "print(find_mismatched_parenthesis(\"((())\")) \n",
    "print(find_mismatched_parenthesis(\"()()()\")) \n"
   ]
  },
  {
   "cell_type": "markdown",
   "id": "309a7d8a-599c-470b-b818-e8c0e55f318d",
   "metadata": {},
   "source": [
    "2. Parentheses in a Long String"
   ]
  },
  {
   "cell_type": "code",
   "execution_count": 5,
   "id": "c744c9d5-827f-4ce5-83b0-b1c6fc84e1ed",
   "metadata": {},
   "outputs": [
    {
     "name": "stdout",
     "output_type": "stream",
     "text": [
      "[(3, 7), (11, 15)]\n",
      "[(1, 3), (4, 6), (0, 7)]\n"
     ]
    }
   ],
   "source": [
    "def find_balanced_parentheses_positions(s):\n",
    "    stack = []\n",
    "    balanced_positions = []\n",
    "    for i, char in enumerate(s):\n",
    "        if char == '(':\n",
    "            stack.append(i)\n",
    "        elif char == ')':\n",
    "            if stack:\n",
    "                start = stack.pop()\n",
    "                balanced_positions.append((start, i))\n",
    "    return balanced_positions\n",
    "\n",
    "print(find_balanced_parentheses_positions(\"abc(def)ghi(jkl)\"))  \n",
    "print(find_balanced_parentheses_positions(\"((a)(b))\")) \n"
   ]
  },
  {
   "cell_type": "markdown",
   "id": "c51e97bf-38bf-474d-8e85-37d1f999717b",
   "metadata": {},
   "source": [
    "3. Minimum Number of Parentheses to Add"
   ]
  },
  {
   "cell_type": "code",
   "execution_count": 10,
   "id": "f645e059-98cb-43f8-a31f-bf47d192a57e",
   "metadata": {},
   "outputs": [
    {
     "name": "stdout",
     "output_type": "stream",
     "text": [
      "4\n",
      "1\n",
      "1\n"
     ]
    }
   ],
   "source": [
    "def min_parentheses_to_add(s):\n",
    "    stack = 0\n",
    "    add = 0\n",
    "    for char in s:\n",
    "        if char == '(':\n",
    "            stack += 1\n",
    "        elif char == ')':\n",
    "            if stack > 0:\n",
    "                stack -= 1\n",
    "            else:\n",
    "                add += 1\n",
    "    add += stack  # Add remaining unmatched opening parentheses\n",
    "    return add\n",
    "\n",
    "print(min_parentheses_to_add(\"()))((\")) \n",
    "print(min_parentheses_to_add(\"(()\")) \n",
    "print(min_parentheses_to_add(\"())\")) \n"
   ]
  },
  {
   "cell_type": "markdown",
   "id": "25b1ea24-9445-4ec2-a1bc-0e82a56ecdc9",
   "metadata": {},
   "source": [
    "4. Longest Valid Parentheses Substring"
   ]
  },
  {
   "cell_type": "code",
   "execution_count": 13,
   "id": "b8a652a9-e896-43ec-b758-bcb56ea967fa",
   "metadata": {},
   "outputs": [
    {
     "name": "stdout",
     "output_type": "stream",
     "text": [
      "4\n",
      "2\n",
      "6\n"
     ]
    }
   ],
   "source": [
    "def longest_valid_parentheses(s):\n",
    "    stack = [-1]  # Initialize with -1 to handle the start\n",
    "    max_len = 0\n",
    "    for i, char in enumerate(s):\n",
    "        if char == '(':\n",
    "            stack.append(i)\n",
    "        else:\n",
    "            stack.pop()\n",
    "            if not stack:\n",
    "                stack.append(i)  # If stack is empty, push current index\n",
    "            else:\n",
    "                max_len = max(max_len, i - stack[-1])  # Calculate length\n",
    "    return max_len\n",
    "\n",
    "print(longest_valid_parentheses(\")()())\"))  \n",
    "print(longest_valid_parentheses(\"(()\")) \n",
    "print(longest_valid_parentheses(\"()(())\")) \n"
   ]
  },
  {
   "cell_type": "code",
   "execution_count": null,
   "id": "14d75975-7a21-4faf-8cce-575e662a2b65",
   "metadata": {},
   "outputs": [],
   "source": []
  }
 ],
 "metadata": {
  "kernelspec": {
   "display_name": "Python [conda env:base] *",
   "language": "python",
   "name": "conda-base-py"
  },
  "language_info": {
   "codemirror_mode": {
    "name": "ipython",
    "version": 3
   },
   "file_extension": ".py",
   "mimetype": "text/x-python",
   "name": "python",
   "nbconvert_exporter": "python",
   "pygments_lexer": "ipython3",
   "version": "3.12.4"
  }
 },
 "nbformat": 4,
 "nbformat_minor": 5
}
