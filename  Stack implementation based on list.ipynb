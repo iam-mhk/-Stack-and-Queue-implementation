{
 "cells": [
  {
   "cell_type": "markdown",
   "id": "ff47ae4f-12b0-4922-b577-04ec661b94d2",
   "metadata": {},
   "source": [
    "1. Reverse a String using a Stack:"
   ]
  },
  {
   "cell_type": "code",
   "execution_count": 3,
   "id": "33a2e31a-7c1f-427e-a913-f5582f11dd70",
   "metadata": {},
   "outputs": [
    {
     "name": "stdout",
     "output_type": "stream",
     "text": [
      "olleh\n"
     ]
    }
   ],
   "source": [
    "def reverse_string(s):\n",
    "    stack = []\n",
    "    for char in s:\n",
    "        stack.append(char)  # Push each character onto the stack\n",
    "    reversed_s = \"\"\n",
    "    while stack:\n",
    "        reversed_s += stack.pop()  # Pop each character and append to the result\n",
    "    return reversed_s\n",
    "\n",
    "print(reverse_string(\"hello\"))  \n"
   ]
  },
  {
   "cell_type": "markdown",
   "id": "a722b09a-f8bd-4633-a1a5-e374a11f93c6",
   "metadata": {},
   "source": [
    "2. Stack Sort Algorithm:"
   ]
  },
  {
   "cell_type": "code",
   "execution_count": 6,
   "id": "d9b3675f-71df-43b0-b169-82b2e9f5e8a1",
   "metadata": {},
   "outputs": [
    {
     "name": "stdout",
     "output_type": "stream",
     "text": [
      "[1, 1, 2, 3, 4, 5, 6, 9]\n"
     ]
    }
   ],
   "source": [
    "def sort_stack(stack):\n",
    "    temp_stack = []\n",
    "    while stack:\n",
    "        temp = stack.pop()\n",
    "        while temp_stack and temp_stack[-1] > temp:\n",
    "            stack.append(temp_stack.pop())\n",
    "        temp_stack.append(temp)\n",
    "    return temp_stack\n",
    "\n",
    "my_stack = [3, 1, 4, 1, 5, 9, 2, 6]\n",
    "sorted_stack = sort_stack(my_stack)\n",
    "print(sorted_stack) # Output: [1, 1, 2, 3, 4, 5, 6, 9]\n"
   ]
  },
  {
   "cell_type": "markdown",
   "id": "c952690a-0326-45a6-96ef-be7e28b2cfba",
   "metadata": {},
   "source": [
    "3. Implement a Stack for Queue Operations:"
   ]
  },
  {
   "cell_type": "code",
   "execution_count": 9,
   "id": "5153db6d-ebe7-471f-b499-5e5bd3069ab2",
   "metadata": {},
   "outputs": [
    {
     "name": "stdout",
     "output_type": "stream",
     "text": [
      "1\n",
      "2\n"
     ]
    }
   ],
   "source": [
    "class QueueUsingStacks:\n",
    "    def __init__(self):\n",
    "        self.in_stack = []\n",
    "        self.out_stack = []\n",
    "\n",
    "    def enqueue(self, x):\n",
    "        self.in_stack.append(x)\n",
    "\n",
    "    def dequeue(self):\n",
    "        if not self.out_stack:\n",
    "            while self.in_stack:\n",
    "                self.out_stack.append(self.in_stack.pop())\n",
    "        if self.out_stack:\n",
    "            return self.out_stack.pop()\n",
    "        else:\n",
    "            return None  # Queue is empty\n",
    "\n",
    "queue = QueueUsingStacks()\n",
    "queue.enqueue(1)\n",
    "queue.enqueue(2)\n",
    "queue.enqueue(3)\n",
    "print(queue.dequeue())  \n",
    "print(queue.dequeue()) \n"
   ]
  },
  {
   "cell_type": "markdown",
   "id": "82d3ecce-4e79-44e5-899e-b617bf53774e",
   "metadata": {},
   "source": [
    "4. Undo/Redo Operation with Stack:"
   ]
  },
  {
   "cell_type": "code",
   "execution_count": 12,
   "id": "8a43c257-3ca3-4d80-a61e-7c4e71ccca53",
   "metadata": {},
   "outputs": [
    {
     "name": "stdout",
     "output_type": "stream",
     "text": [
      "B\n",
      "B\n"
     ]
    }
   ],
   "source": [
    "class UndoRedo:\n",
    "    def __init__(self):\n",
    "        self.undo_stack = []\n",
    "        self.redo_stack = []\n",
    "\n",
    "    def do(self, action):\n",
    "        self.undo_stack.append(action)\n",
    "        self.redo_stack = []  # Clear redo stack after a new action\n",
    "\n",
    "    def undo(self):\n",
    "        if self.undo_stack:\n",
    "            action = self.undo_stack.pop()\n",
    "            self.redo_stack.append(action)\n",
    "            return action\n",
    "        return None\n",
    "\n",
    "    def redo(self):\n",
    "        if self.redo_stack:\n",
    "            action = self.redo_stack.pop()\n",
    "            self.undo_stack.append(action)\n",
    "            return action\n",
    "        return None\n",
    "\n",
    "history = UndoRedo()\n",
    "history.do(\"A\")\n",
    "history.do(\"B\")\n",
    "print(history.undo())  \n",
    "print(history.redo())  \n"
   ]
  },
  {
   "cell_type": "markdown",
   "id": "09a4874d-1a7a-4255-b5a5-287345f8fd30",
   "metadata": {},
   "source": [
    "5. Implement a Stack that Supports Getting the Middle Element:"
   ]
  },
  {
   "cell_type": "code",
   "execution_count": 15,
   "id": "c7b14541-df51-4399-8a2a-3fafbfaab774",
   "metadata": {},
   "outputs": [
    {
     "name": "stdout",
     "output_type": "stream",
     "text": [
      "3\n"
     ]
    }
   ],
   "source": [
    "class MiddleStack:\n",
    "    def __init__(self):\n",
    "        self.stack = []\n",
    "\n",
    "    def push(self, x):\n",
    "        self.stack.append(x)\n",
    "\n",
    "    def pop(self):\n",
    "        if self.stack:\n",
    "            return self.stack.pop()\n",
    "        return None\n",
    "\n",
    "    def get_middle(self):\n",
    "        if not self.stack:\n",
    "            return None\n",
    "        mid = len(self.stack) // 2\n",
    "        return self.stack[mid]\n",
    "\n",
    "mid_stack = MiddleStack()\n",
    "mid_stack.push(1)\n",
    "mid_stack.push(2)\n",
    "mid_stack.push(3)\n",
    "mid_stack.push(4)\n",
    "print(mid_stack.get_middle()) \n"
   ]
  },
  {
   "cell_type": "markdown",
   "id": "e624fc88-7ee0-4b9e-8fb0-3dc4d3127b8a",
   "metadata": {},
   "source": [
    "6. Remove Duplicates from a Stack:"
   ]
  },
  {
   "cell_type": "code",
   "execution_count": 18,
   "id": "dc486174-ccab-4a1e-9c56-111805cc7322",
   "metadata": {},
   "outputs": [
    {
     "name": "stdout",
     "output_type": "stream",
     "text": [
      "[1, 2, 3, 4, 5]\n"
     ]
    }
   ],
   "source": [
    "def remove_duplicates(stack):\n",
    "    temp_stack = []\n",
    "    seen = set()\n",
    "    while stack:\n",
    "        element = stack.pop()\n",
    "        if element not in seen:\n",
    "            temp_stack.append(element)\n",
    "            seen.add(element)\n",
    "    result_stack = []\n",
    "    while temp_stack:\n",
    "        result_stack.append(temp_stack.pop())\n",
    "    return result_stack\n",
    "\n",
    "my_stack = [1, 2, 2, 3, 4, 4, 5]\n",
    "print(remove_duplicates(my_stack)) \n"
   ]
  },
  {
   "cell_type": "markdown",
   "id": "d791b424-919d-43d9-8b03-168ddcd67901",
   "metadata": {},
   "source": [
    "7. Implement Stack with Two Queues:"
   ]
  },
  {
   "cell_type": "code",
   "execution_count": 21,
   "id": "22408bdc-00f6-4dc9-ba3e-46750bc11c40",
   "metadata": {},
   "outputs": [
    {
     "name": "stdout",
     "output_type": "stream",
     "text": [
      "2\n",
      "1\n"
     ]
    }
   ],
   "source": [
    "class StackUsingQueues:\n",
    "    def __init__(self):\n",
    "        self.queue1 = []\n",
    "        self.queue2 = []\n",
    "\n",
    "    def push(self, x):\n",
    "        self.queue1.append(x)\n",
    "\n",
    "    def pop(self):\n",
    "        if not self.queue1:\n",
    "            return None\n",
    "        while len(self.queue1) > 1:\n",
    "            self.queue2.append(self.queue1.pop(0))\n",
    "        result = self.queue1.pop(0)\n",
    "        self.queue1, self.queue2 = self.queue2, self.queue1\n",
    "        return result\n",
    "\n",
    "    def peek(self):\n",
    "        if not self.queue1:\n",
    "            return None\n",
    "        return self.queue1[-1]\n",
    "\n",
    "    def is_empty(self):\n",
    "        return not self.queue1\n",
    "\n",
    "stack_q = StackUsingQueues()\n",
    "stack_q.push(1)\n",
    "stack_q.push(2)\n",
    "print(stack_q.pop())  \n",
    "print(stack_q.peek()) "
   ]
  },
  {
   "cell_type": "markdown",
   "id": "b0a5c958-319c-44b1-8411-6d37d6d53428",
   "metadata": {},
   "source": [
    "8. Check if a Stack is Palindrome:"
   ]
  },
  {
   "cell_type": "code",
   "execution_count": 24,
   "id": "86fd0a1f-cd17-4caa-8311-91cbfd052705",
   "metadata": {},
   "outputs": [
    {
     "name": "stdout",
     "output_type": "stream",
     "text": [
      "True\n"
     ]
    }
   ],
   "source": [
    "def is_palindrome_stack(stack):\n",
    "    temp_stack = stack[:]  # Create a copy\n",
    "    reversed_stack = []\n",
    "    while temp_stack:\n",
    "        reversed_stack.append(temp_stack.pop())\n",
    "    return stack == reversed_stack\n",
    "\n",
    "my_stack = [1, 2, 3, 2, 1]\n",
    "print(is_palindrome_stack(my_stack))  \n"
   ]
  },
  {
   "cell_type": "markdown",
   "id": "00b2c65d-ee72-413d-9a7f-ccce29368a8d",
   "metadata": {},
   "source": [
    "9. Next Greater Element using Stack:"
   ]
  },
  {
   "cell_type": "code",
   "execution_count": 27,
   "id": "ca5d0bdf-982a-4aa6-aa67-9994101e0702",
   "metadata": {},
   "outputs": [
    {
     "name": "stdout",
     "output_type": "stream",
     "text": [
      "[5, 25, 25, -1]\n"
     ]
    }
   ],
   "source": [
    "def next_greater_element(nums):\n",
    "    stack = []\n",
    "    result = [-1] * len(nums)\n",
    "    for i in range(len(nums)):\n",
    "        while stack and nums[stack[-1]] < nums[i]:\n",
    "            result[stack.pop()] = nums[i]\n",
    "        stack.append(i)\n",
    "    return result\n",
    "\n",
    "print(next_greater_element([4, 5, 2, 25])) \n"
   ]
  },
  {
   "cell_type": "markdown",
   "id": "188db18d-dd2f-4dd6-9be1-cbbe8c477e57",
   "metadata": {},
   "source": [
    "10. Reverse a Queue using a Stack:"
   ]
  },
  {
   "cell_type": "code",
   "execution_count": 30,
   "id": "64aa2269-8997-4d09-9d5a-f57ce61147c7",
   "metadata": {},
   "outputs": [
    {
     "name": "stdout",
     "output_type": "stream",
     "text": [
      "[5, 4, 3, 2, 1]\n"
     ]
    }
   ],
   "source": [
    "def reverse_queue_using_stack(queue):\n",
    "    stack = []\n",
    "    while queue:\n",
    "        stack.append(queue.pop(0))\n",
    "    while stack:\n",
    "        queue.append(stack.pop())\n",
    "    return queue\n",
    "\n",
    "my_queue = [1, 2, 3, 4, 5]\n",
    "print(reverse_queue_using_stack(my_queue)) \n"
   ]
  },
  {
   "cell_type": "markdown",
   "id": "0a608299-ef1a-4956-9f67-4e9c2c9dda57",
   "metadata": {},
   "source": [
    "11. Remove All Elements Less Than X:"
   ]
  },
  {
   "cell_type": "code",
   "execution_count": 33,
   "id": "ad682f97-bb07-4608-8c20-58159f3e9067",
   "metadata": {},
   "outputs": [
    {
     "name": "stdout",
     "output_type": "stream",
     "text": [
      "[5, 8, 9]\n"
     ]
    }
   ],
   "source": [
    "def remove_less_than_x(stack, x):\n",
    "    temp_stack = []\n",
    "    while stack:\n",
    "        element = stack.pop()\n",
    "        if element >= x:\n",
    "            temp_stack.append(element)\n",
    "    result_stack = []\n",
    "    while temp_stack:\n",
    "        result_stack.append(temp_stack.pop())\n",
    "    return result_stack\n",
    "\n",
    "my_stack = [5, 2, 8, 1, 9, 3]\n",
    "print(remove_less_than_x(my_stack, 4)) "
   ]
  },
  {
   "cell_type": "code",
   "execution_count": null,
   "id": "7172e271-7ef1-4fca-b161-f3d340b0b0a9",
   "metadata": {},
   "outputs": [],
   "source": []
  }
 ],
 "metadata": {
  "kernelspec": {
   "display_name": "Python [conda env:base] *",
   "language": "python",
   "name": "conda-base-py"
  },
  "language_info": {
   "codemirror_mode": {
    "name": "ipython",
    "version": 3
   },
   "file_extension": ".py",
   "mimetype": "text/x-python",
   "name": "python",
   "nbconvert_exporter": "python",
   "pygments_lexer": "ipython3",
   "version": "3.12.4"
  }
 },
 "nbformat": 4,
 "nbformat_minor": 5
}
